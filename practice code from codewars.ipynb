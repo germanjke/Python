{
 "cells": [
  {
   "cell_type": "markdown",
   "metadata": {},
   "source": [
    "#### practice my code skills via [codewars](codewars.com)"
   ]
  },
  {
   "cell_type": "code",
   "execution_count": 1,
   "metadata": {},
   "outputs": [],
   "source": [
    "#bool value yes or no\n",
    "def bool_to_word(bool):\n",
    "    return \"Yes\" if bool else \"No\""
   ]
  },
  {
   "cell_type": "code",
   "execution_count": 2,
   "metadata": {},
   "outputs": [
    {
     "data": {
      "text/plain": [
       "'Yes'"
      ]
     },
     "execution_count": 2,
     "metadata": {},
     "output_type": "execute_result"
    }
   ],
   "source": [
    "bool_to_word('aaa')"
   ]
  },
  {
   "cell_type": "code",
   "execution_count": 3,
   "metadata": {},
   "outputs": [],
   "source": [
    "#or\n",
    "def bool_to_word(bool):\n",
    "     if bool:\n",
    "         return \"Yes\"\n",
    "     return \"No\""
   ]
  },
  {
   "cell_type": "code",
   "execution_count": 4,
   "metadata": {},
   "outputs": [],
   "source": [
    "#find divisors\n",
    "def divisors(num):\n",
    "    l = [a for a in range(2,num) if num%a == 0]\n",
    "    if len(l) == 0:\n",
    "        return str(num) + \" is prime\"\n",
    "    return l"
   ]
  },
  {
   "cell_type": "code",
   "execution_count": 5,
   "metadata": {},
   "outputs": [
    {
     "data": {
      "text/plain": [
       "[2, 3, 4, 6]"
      ]
     },
     "execution_count": 5,
     "metadata": {},
     "output_type": "execute_result"
    }
   ],
   "source": [
    "divisors(12)"
   ]
  },
  {
   "cell_type": "code",
   "execution_count": 6,
   "metadata": {},
   "outputs": [],
   "source": [
    "#or\n",
    "def divisors(integer):\n",
    "  a = []\n",
    "  for i in range(2, integer):\n",
    "    if integer % i == 0:\n",
    "      a.append(i)\n",
    "  return a if a else str(integer) + \" is prime\""
   ]
  },
  {
   "cell_type": "code",
   "execution_count": 7,
   "metadata": {},
   "outputs": [],
   "source": [
    "#or\n",
    "def divisors(n):\n",
    "    return [i for i in xrange(2, n) if not n % i] or '%d is prime' % n"
   ]
  },
  {
   "cell_type": "code",
   "execution_count": 8,
   "metadata": {},
   "outputs": [],
   "source": [
    "#bus stops. each array have 2 values: new passangers, gone passangers. how much passangers will be at the end?\n",
    "def number(bus_stops):\n",
    "    sum=0\n",
    "    for i in bus_stops:\n",
    "        sum+=i[0]-i[1]\n",
    "    return sum"
   ]
  },
  {
   "cell_type": "code",
   "execution_count": 9,
   "metadata": {},
   "outputs": [
    {
     "data": {
      "text/plain": [
       "7"
      ]
     },
     "execution_count": 9,
     "metadata": {},
     "output_type": "execute_result"
    }
   ],
   "source": [
    "number([[10,0], [7,0], [0, 10]])"
   ]
  },
  {
   "cell_type": "code",
   "execution_count": 10,
   "metadata": {},
   "outputs": [],
   "source": [
    "#or\n",
    "def number(bus_stops):\n",
    "    return sum([stop[0] - stop[1] for stop in bus_stops])"
   ]
  },
  {
   "cell_type": "code",
   "execution_count": 11,
   "metadata": {},
   "outputs": [],
   "source": [
    "#or\n",
    "def number(bus_stops):\n",
    "    total = 0\n",
    "    for entered, out in bus_stops:\n",
    "        total += entered - out \n",
    "    return total"
   ]
  },
  {
   "cell_type": "code",
   "execution_count": 12,
   "metadata": {},
   "outputs": [],
   "source": [
    "#choose the longest string\n",
    "def longest_string(s1, s2):\n",
    "    if len(s1)>len(s2):\n",
    "        return s1\n",
    "    if len(s2)>len(s1):\n",
    "        return s2"
   ]
  },
  {
   "cell_type": "code",
   "execution_count": 13,
   "metadata": {},
   "outputs": [
    {
     "data": {
      "text/plain": [
       "'ssssssssss'"
      ]
     },
     "execution_count": 13,
     "metadata": {},
     "output_type": "execute_result"
    }
   ],
   "source": [
    "longest_string('ssssssssss', 's')"
   ]
  },
  {
   "cell_type": "code",
   "execution_count": 14,
   "metadata": {},
   "outputs": [],
   "source": [
    "#check two stings, return new sort string(from a to z) with only unique elements\n",
    "def longest(s1, s2):\n",
    "    return ''.join(sorted((set(s1+s2))))"
   ]
  },
  {
   "cell_type": "code",
   "execution_count": 15,
   "metadata": {},
   "outputs": [
    {
     "data": {
      "text/plain": [
       "'abcs'"
      ]
     },
     "execution_count": 15,
     "metadata": {},
     "output_type": "execute_result"
    }
   ],
   "source": [
    "longest('sss', 'abc')"
   ]
  },
  {
   "cell_type": "code",
   "execution_count": 16,
   "metadata": {},
   "outputs": [],
   "source": [
    "#return string with first UPPER registr of element and split by '-' and 1 more elemnt in next object \n",
    "#like \"abcd\" -> \"A-Bb-Ccc-Dddd\"\n",
    "def accum(s):\n",
    "    return '-'.join(c.upper() + c.lower() * i for i, c in enumerate(s))"
   ]
  },
  {
   "cell_type": "code",
   "execution_count": 17,
   "metadata": {},
   "outputs": [
    {
     "data": {
      "text/plain": [
       "'S-Bb-Sss-Ssss-Wwwww-Gggggg'"
      ]
     },
     "execution_count": 17,
     "metadata": {},
     "output_type": "execute_result"
    }
   ],
   "source": [
    "accum('SbSswg')"
   ]
  },
  {
   "cell_type": "code",
   "execution_count": 18,
   "metadata": {},
   "outputs": [],
   "source": [
    "#or\n",
    "def accum(s):\n",
    "    output = \"\"\n",
    "    for i in range(len(s)):\n",
    "        output+=(s[i]*(i+1))+\"-\"\n",
    "    return output.title()[:-1]"
   ]
  },
  {
   "cell_type": "code",
   "execution_count": 19,
   "metadata": {},
   "outputs": [],
   "source": [
    "#complete the sum of squares \n",
    "def square_sum(numbers):\n",
    "  res = 0\n",
    "  for num in numbers:\n",
    "       res = res + num*num\n",
    "  return res"
   ]
  },
  {
   "cell_type": "code",
   "execution_count": 20,
   "metadata": {},
   "outputs": [
    {
     "data": {
      "text/plain": [
       "45"
      ]
     },
     "execution_count": 20,
     "metadata": {},
     "output_type": "execute_result"
    }
   ],
   "source": [
    "square_sum([2, 4, 5])"
   ]
  },
  {
   "cell_type": "code",
   "execution_count": 21,
   "metadata": {},
   "outputs": [],
   "source": [
    "#or\n",
    "def square_sum(numbers):\n",
    "    return sum(x ** 2 for x in numbers)"
   ]
  },
  {
   "cell_type": "code",
   "execution_count": 22,
   "metadata": {},
   "outputs": [],
   "source": [
    "#we have a list with some values like 'a,b,c,d,e,f,g'\n",
    "#we need to return only a or b values. and all of other change to a\n",
    "def whatweneed(values, valid):\n",
    "    return ' '.join(x if x in valid else 'a' for x in values.split())"
   ]
  },
  {
   "cell_type": "code",
   "execution_count": 23,
   "metadata": {},
   "outputs": [
    {
     "data": {
      "text/plain": [
       "'a b a a a a a'"
      ]
     },
     "execution_count": 23,
     "metadata": {},
     "output_type": "execute_result"
    }
   ],
   "source": [
    "values_test = 'a b c d e f g'\n",
    "VALID_test = {'a', 'b'}\n",
    "\n",
    "whatweneed(values_test, VALID_test)"
   ]
  },
  {
   "cell_type": "code",
   "execution_count": null,
   "metadata": {},
   "outputs": [],
   "source": []
  }
 ],
 "metadata": {
  "kernelspec": {
   "display_name": "Python 3",
   "language": "python",
   "name": "python3"
  },
  "language_info": {
   "codemirror_mode": {
    "name": "ipython",
    "version": 3
   },
   "file_extension": ".py",
   "mimetype": "text/x-python",
   "name": "python",
   "nbconvert_exporter": "python",
   "pygments_lexer": "ipython3",
   "version": "3.7.6"
  }
 },
 "nbformat": 4,
 "nbformat_minor": 2
}
