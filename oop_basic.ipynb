{
 "cells": [
  {
   "cell_type": "code",
   "execution_count": 1,
   "metadata": {},
   "outputs": [],
   "source": [
    "# Создаем класс Соусы\n",
    "class Sause:\n",
    " \n",
    "    # создаем атрибуты класса\n",
    "    name = \"Сырный\"\n",
    "    maker = \"McDonalds\"\n",
    "    weight = 0.025\n",
    " \n",
    "    # создаем методы класса\n",
    "    def start(self):\n",
    "        print (\"Начинаем готовить соус\")\n",
    " \n",
    "    def stop(self):\n",
    "        print (\"Соус приготовлен\")"
   ]
  },
  {
   "cell_type": "code",
   "execution_count": 2,
   "metadata": {},
   "outputs": [
    {
     "data": {
      "text/plain": [
       "<__main__.Sause at 0x224f4fc8108>"
      ]
     },
     "execution_count": 2,
     "metadata": {},
     "output_type": "execute_result"
    }
   ],
   "source": [
    "Sause()"
   ]
  },
  {
   "cell_type": "code",
   "execution_count": 3,
   "metadata": {},
   "outputs": [],
   "source": [
    "sause_a = Sause()\n",
    "sause_b = Sause()"
   ]
  },
  {
   "cell_type": "code",
   "execution_count": 4,
   "metadata": {},
   "outputs": [
    {
     "name": "stdout",
     "output_type": "stream",
     "text": [
      "Начинаем готовить соус\n"
     ]
    }
   ],
   "source": [
    "sause_a.start()"
   ]
  },
  {
   "cell_type": "code",
   "execution_count": 5,
   "metadata": {},
   "outputs": [
    {
     "name": "stdout",
     "output_type": "stream",
     "text": [
      "Сырный\n"
     ]
    }
   ],
   "source": [
    "print(sause_a.name)"
   ]
  },
  {
   "cell_type": "code",
   "execution_count": 6,
   "metadata": {},
   "outputs": [
    {
     "name": "stdout",
     "output_type": "stream",
     "text": [
      "['__class__', '__delattr__', '__dict__', '__dir__', '__doc__', '__eq__', '__format__', '__ge__', '__getattribute__', '__gt__', '__hash__', '__init__', '__init_subclass__', '__le__', '__lt__', '__module__', '__ne__', '__new__', '__reduce__', '__reduce_ex__', '__repr__', '__setattr__', '__sizeof__', '__str__', '__subclasshook__', '__weakref__', 'maker', 'name', 'start', 'stop', 'weight']\n"
     ]
    }
   ],
   "source": [
    "print(dir(sause_a))"
   ]
  },
  {
   "cell_type": "code",
   "execution_count": 7,
   "metadata": {},
   "outputs": [],
   "source": [
    "class Sause:\n",
    " \n",
    "    # создаем атрибуты класса\n",
    "    sause_count = 0\n",
    " \n",
    "    # создаем методы класса\n",
    "    def start(self, name, maker, weight):\n",
    "        print(\"Готовочку соуса оформите, быстренько работаем\")\n",
    "        self.name = name\n",
    "        self.maker = maker\n",
    "        self.weight = weight\n",
    "        Sause.sause_count += 1"
   ]
  },
  {
   "cell_type": "code",
   "execution_count": 8,
   "metadata": {},
   "outputs": [
    {
     "name": "stdout",
     "output_type": "stream",
     "text": [
      "Готовочку соуса оформите, быстренько работаем\n",
      "Кисло-сладкий\n",
      "1\n"
     ]
    }
   ],
   "source": [
    "sause_a = Sause()\n",
    "sause_a.start(\"Кисло-сладкий\", \"KFC\", 0.025)\n",
    "print(sause_a.name)\n",
    "print(sause_a.sause_count)"
   ]
  },
  {
   "cell_type": "code",
   "execution_count": 9,
   "metadata": {},
   "outputs": [
    {
     "name": "stdout",
     "output_type": "stream",
     "text": [
      "Готовочку соуса оформите, быстренько работаем\n",
      "Кисло-сладкий\n",
      "2\n"
     ]
    }
   ],
   "source": [
    "sause_b = Sause()\n",
    "sause_b.start(\"Карри\", \"Burger King\", 0.025)\n",
    "print(sause_a.name)\n",
    "print(sause_b.sause_count)"
   ]
  },
  {
   "cell_type": "code",
   "execution_count": 10,
   "metadata": {},
   "outputs": [
    {
     "name": "stdout",
     "output_type": "stream",
     "text": [
      "Это класс Sause\n"
     ]
    }
   ],
   "source": [
    "class Sause:\n",
    " \n",
    "    @staticmethod #статичные методы(вызван напрямую при помощи имени класса)\n",
    "    def get_class_details():\n",
    "        print (\"Это класс Sause\")\n",
    " \n",
    "Sause.get_class_details()"
   ]
  },
  {
   "cell_type": "code",
   "execution_count": 11,
   "metadata": {},
   "outputs": [
    {
     "name": "stdout",
     "output_type": "stream",
     "text": [
      "(9, 25)\n"
     ]
    }
   ],
   "source": [
    "class Square:\n",
    " \n",
    "    @staticmethod\n",
    "    def get_squares(a, b):\n",
    "        return a*a, b*b\n",
    " \n",
    "print(Square.get_squares(3, 5))"
   ]
  },
  {
   "cell_type": "code",
   "execution_count": 12,
   "metadata": {},
   "outputs": [
    {
     "name": "stdout",
     "output_type": "stream",
     "text": [
      "Объект класса Sause\n"
     ]
    }
   ],
   "source": [
    "# создание класса Sause\n",
    "class Sause:\n",
    " \n",
    "    # создание методов класса\n",
    "    def __str__(self): #выводим на экран\n",
    "        return \"Объект класса Sause\"\n",
    " \n",
    "    def start(self):\n",
    "        print (\"Оформите соус этому господину...Быстро!!!\")\n",
    " \n",
    "sause_a = Sause()  \n",
    "print(sause_a)"
   ]
  },
  {
   "cell_type": "code",
   "execution_count": 13,
   "metadata": {},
   "outputs": [
    {
     "name": "stdout",
     "output_type": "stream",
     "text": [
      "Оформите соус этому господину...Быстро!!!\n"
     ]
    }
   ],
   "source": [
    "sause_a.start()"
   ]
  },
  {
   "cell_type": "code",
   "execution_count": 14,
   "metadata": {},
   "outputs": [],
   "source": [
    "#Конструкторы\n",
    "class Sause:\n",
    " \n",
    "    # создание атрибутов класса\n",
    "    sause_count = 0\n",
    " \n",
    "    # создание методов класса\n",
    "    def __init__(self):\n",
    "        Sause.sause_count +=1\n",
    "        print(Sause.sause_count)"
   ]
  },
  {
   "cell_type": "code",
   "execution_count": 15,
   "metadata": {},
   "outputs": [
    {
     "name": "stdout",
     "output_type": "stream",
     "text": [
      "1\n"
     ]
    }
   ],
   "source": [
    "sause_a = Sause()"
   ]
  },
  {
   "cell_type": "code",
   "execution_count": 16,
   "metadata": {},
   "outputs": [
    {
     "name": "stdout",
     "output_type": "stream",
     "text": [
      "2\n"
     ]
    }
   ],
   "source": [
    "sause_b = Sause()"
   ]
  },
  {
   "cell_type": "code",
   "execution_count": 17,
   "metadata": {},
   "outputs": [],
   "source": [
    "# создаем класс Sause\n",
    "class Sause:  \n",
    "    def start(self):\n",
    "        message = \"Соус оформляем\" #локальная переменная\n",
    "        return message"
   ]
  },
  {
   "cell_type": "code",
   "execution_count": 18,
   "metadata": {},
   "outputs": [
    {
     "name": "stdout",
     "output_type": "stream",
     "text": [
      "Соус оформляем\n"
     ]
    }
   ],
   "source": [
    "sause_a = Sause()\n",
    "print(sause_a.start())"
   ]
  },
  {
   "cell_type": "code",
   "execution_count": 19,
   "metadata": {},
   "outputs": [
    {
     "name": "stdout",
     "output_type": "stream",
     "text": [
      "Внешний соус\n",
      "Внутренний соус\n"
     ]
    }
   ],
   "source": [
    "# создаем класс Sause\n",
    "class Sause:  \n",
    "    message1 = \"Внешний соус\" #глобальная переменная\n",
    " \n",
    "    def start(self):\n",
    "        message2 = \"Внутренний соус\"\n",
    "        return message2\n",
    " \n",
    "sause_a = Sause()  \n",
    "print(sause_a.message1)\n",
    "print(sause_a.start())"
   ]
  },
  {
   "cell_type": "code",
   "execution_count": 20,
   "metadata": {},
   "outputs": [],
   "source": [
    "class Sause:  \n",
    "    def __init__(self):\n",
    "        print (\"Барбекю по-молдавски, быстро-быстро, девочки\")\n",
    "        self.name = \"Барбекю\" #публичный(доступ из любой точки вне класса)\n",
    "        self.__maker = \"Молдавский ресторан\" #приватный(доступ открыт только внутри класса)\n",
    "        self._weight = 0.03 #защищенный(доступ открыт только внутри того же пакета)"
   ]
  },
  {
   "cell_type": "code",
   "execution_count": 21,
   "metadata": {},
   "outputs": [
    {
     "name": "stdout",
     "output_type": "stream",
     "text": [
      "Барбекю по-молдавски, быстро-быстро, девочки\n",
      "Барбекю\n"
     ]
    }
   ],
   "source": [
    "sause_a = Sause()\n",
    "print(sause_a.name)"
   ]
  },
  {
   "cell_type": "markdown",
   "metadata": {},
   "source": [
    "##### Наследование"
   ]
  },
  {
   "cell_type": "code",
   "execution_count": 22,
   "metadata": {},
   "outputs": [],
   "source": [
    "# Создание класса Еда\n",
    "class Food:  \n",
    "    def food_method(self):\n",
    "        print(\"Это родительский метод из класса Food\")\n",
    " \n",
    "# Создание класса Sause, который наследует Food\n",
    "class Sause(Food):  \n",
    "    def sause_method(self):\n",
    "        print(\"Это метод из дочернего класса\")"
   ]
  },
  {
   "cell_type": "code",
   "execution_count": 23,
   "metadata": {},
   "outputs": [],
   "source": [
    "food = Food()"
   ]
  },
  {
   "cell_type": "code",
   "execution_count": 24,
   "metadata": {},
   "outputs": [
    {
     "name": "stdout",
     "output_type": "stream",
     "text": [
      "Это родительский метод из класса Food\n"
     ]
    }
   ],
   "source": [
    "food.food_method()"
   ]
  },
  {
   "cell_type": "code",
   "execution_count": 25,
   "metadata": {},
   "outputs": [],
   "source": [
    "sause = Sause()"
   ]
  },
  {
   "cell_type": "code",
   "execution_count": 26,
   "metadata": {},
   "outputs": [
    {
     "name": "stdout",
     "output_type": "stream",
     "text": [
      "Это метод из дочернего класса\n"
     ]
    }
   ],
   "source": [
    "sause.sause_method()"
   ]
  },
  {
   "cell_type": "code",
   "execution_count": 27,
   "metadata": {},
   "outputs": [
    {
     "name": "stdout",
     "output_type": "stream",
     "text": [
      "Это родительский метод из класса Food\n"
     ]
    }
   ],
   "source": [
    "sause.food_method()"
   ]
  },
  {
   "cell_type": "code",
   "execution_count": 28,
   "metadata": {},
   "outputs": [],
   "source": [
    "#множественное наследование\n",
    "# создаем класс Food\n",
    "class Food:  \n",
    "    def food_method(self):\n",
    "        print(\"Это родительский метод из класса Food\")\n",
    " \n",
    "# создаем класс Sause, который наследует Food\n",
    "class Sause(Food):  \n",
    "    def sause_method(self):\n",
    "        print(\"Это дочерний метод из класса Sause\")\n",
    " \n",
    "# создаем класс Burgers, который наследует Food\n",
    "class Burgers(Food):  \n",
    "    def burgersMethod(self):\n",
    "        print(\"Это дочерний метод из класса Burges\")"
   ]
  },
  {
   "cell_type": "code",
   "execution_count": 29,
   "metadata": {},
   "outputs": [],
   "source": [
    "burger = Burgers()"
   ]
  },
  {
   "cell_type": "code",
   "execution_count": 30,
   "metadata": {},
   "outputs": [
    {
     "name": "stdout",
     "output_type": "stream",
     "text": [
      "Это дочерний метод из класса Burges\n"
     ]
    }
   ],
   "source": [
    "burger.burgersMethod()"
   ]
  },
  {
   "cell_type": "code",
   "execution_count": 31,
   "metadata": {},
   "outputs": [
    {
     "name": "stdout",
     "output_type": "stream",
     "text": [
      "Это родительский метод из класса Food\n"
     ]
    }
   ],
   "source": [
    "burger.food_method()"
   ]
  },
  {
   "cell_type": "code",
   "execution_count": 32,
   "metadata": {},
   "outputs": [],
   "source": [
    "class Restaraunt:\n",
    "    def rest_method(self):\n",
    "        print(\"Это родительский метод из класса Restaraunt\")\n",
    "\n",
    "class Recipe:\n",
    "    def recipe_method(self):\n",
    "        print(\"Это родительский метод из класса Recipe\")\n",
    "\n",
    "class Sause(Restaraunt, Recipe):\n",
    "     def sause_method(self):\n",
    "        print(\"Это дочерний метод из класса Sause\")"
   ]
  },
  {
   "cell_type": "code",
   "execution_count": 33,
   "metadata": {},
   "outputs": [],
   "source": [
    "sause = Sause()"
   ]
  },
  {
   "cell_type": "code",
   "execution_count": 34,
   "metadata": {},
   "outputs": [
    {
     "name": "stdout",
     "output_type": "stream",
     "text": [
      "Это дочерний метод из класса Sause\n"
     ]
    }
   ],
   "source": [
    "sause.sause_method()"
   ]
  },
  {
   "cell_type": "code",
   "execution_count": 35,
   "metadata": {},
   "outputs": [
    {
     "name": "stdout",
     "output_type": "stream",
     "text": [
      "Это родительский метод из класса Restaraunt\n"
     ]
    }
   ],
   "source": [
    "sause.rest_method()"
   ]
  },
  {
   "cell_type": "markdown",
   "metadata": {},
   "source": [
    "##### Полиморфизм (несколько форм)"
   ]
  },
  {
   "cell_type": "code",
   "execution_count": 36,
   "metadata": {},
   "outputs": [],
   "source": [
    "# создаем класс Sause\n",
    "class Sause:  \n",
    "   def start(self, a, b=None):\n",
    "        if b is not None:\n",
    "            print (a + b)\n",
    "        else:\n",
    "            print (a)"
   ]
  },
  {
   "cell_type": "code",
   "execution_count": 37,
   "metadata": {},
   "outputs": [],
   "source": [
    "sause = Sause()"
   ]
  },
  {
   "cell_type": "code",
   "execution_count": 38,
   "metadata": {},
   "outputs": [
    {
     "name": "stdout",
     "output_type": "stream",
     "text": [
      "1\n"
     ]
    }
   ],
   "source": [
    "sause.start(1)"
   ]
  },
  {
   "cell_type": "code",
   "execution_count": 39,
   "metadata": {},
   "outputs": [
    {
     "name": "stdout",
     "output_type": "stream",
     "text": [
      "3\n"
     ]
    }
   ],
   "source": [
    "sause.start(1,2)"
   ]
  },
  {
   "cell_type": "code",
   "execution_count": 40,
   "metadata": {},
   "outputs": [],
   "source": [
    "#переопределние метода(одинаковое название метода)\n",
    "#создание класса Food\n",
    "class Food:  \n",
    "    def print_details(self):\n",
    "        print(\"Это родительский метод из класса Food\")\n",
    " \n",
    "#создание класса, который наследует Food\n",
    "class Sause(Food):  \n",
    "    def print_details(self):\n",
    "        print(\"Это дочерний метод из класса Sause\")\n",
    " \n",
    "#создание класса Burger, который наследует Food\n",
    "class Burger(Food):  \n",
    "    def print_details(self):\n",
    "        print(\"Это дочерний метод из класса Burger\")"
   ]
  },
  {
   "cell_type": "code",
   "execution_count": 41,
   "metadata": {},
   "outputs": [
    {
     "name": "stdout",
     "output_type": "stream",
     "text": [
      "Это родительский метод из класса Food\n"
     ]
    }
   ],
   "source": [
    "sause_a = Food()\n",
    "sause_a.print_details()"
   ]
  },
  {
   "cell_type": "code",
   "execution_count": 42,
   "metadata": {},
   "outputs": [
    {
     "name": "stdout",
     "output_type": "stream",
     "text": [
      "Это дочерний метод из класса Sause\n"
     ]
    }
   ],
   "source": [
    "sause_b = Sause()\n",
    "sause_b.print_details()"
   ]
  },
  {
   "cell_type": "code",
   "execution_count": 43,
   "metadata": {},
   "outputs": [
    {
     "name": "stdout",
     "output_type": "stream",
     "text": [
      "Это дочерний метод из класса Burger\n"
     ]
    }
   ],
   "source": [
    "sause_c = Burger()\n",
    "sause_c.print_details()"
   ]
  },
  {
   "cell_type": "code",
   "execution_count": 44,
   "metadata": {},
   "outputs": [],
   "source": [
    "# создаем класс Sause\n",
    "class Sause:\n",
    " \n",
    "    # создаем конструктор класса Sause\n",
    "    def __init__(self, weight):\n",
    "        # Инициализация свойств.\n",
    "        self.weight = weight\n",
    " \n",
    "    # создаем свойство модели.\n",
    "    @property\n",
    "    def weight(self):\n",
    "        return self.__weight\n",
    " \n",
    "    # Сеттер для создания свойств.\n",
    "    @weight.setter\n",
    "    def weight(self, weight):\n",
    "        if weight < 0.01:\n",
    "            self.__weight = 0.01\n",
    "        elif weight > 0.1:\n",
    "            self.__weight = 0.1\n",
    "        else:\n",
    "            self.__weight = model\n",
    " \n",
    "    def getSauseWeight(self):\n",
    "        return \"Вес соуса \" + str(self.weight)"
   ]
  },
  {
   "cell_type": "code",
   "execution_count": 45,
   "metadata": {},
   "outputs": [
    {
     "name": "stdout",
     "output_type": "stream",
     "text": [
      "Вес соуса 0.1\n"
     ]
    }
   ],
   "source": [
    "sause = Sause(0.5)  \n",
    "print(sause.getSauseWeight())"
   ]
  },
  {
   "cell_type": "code",
   "execution_count": null,
   "metadata": {},
   "outputs": [],
   "source": []
  }
 ],
 "metadata": {
  "kernelspec": {
   "display_name": "Python 3",
   "language": "python",
   "name": "python3"
  },
  "language_info": {
   "codemirror_mode": {
    "name": "ipython",
    "version": 3
   },
   "file_extension": ".py",
   "mimetype": "text/x-python",
   "name": "python",
   "nbconvert_exporter": "python",
   "pygments_lexer": "ipython3",
   "version": "3.7.6"
  }
 },
 "nbformat": 4,
 "nbformat_minor": 2
}
