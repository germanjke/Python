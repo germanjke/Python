{
 "cells": [
  {
   "cell_type": "markdown",
   "metadata": {},
   "source": [
    "Here are 10 Python tricks which can help with basic tasks or could be use like a upper lvl in hard tasks.\n",
    "Code written by this [paper](https://towardsdatascience.com/10-python-tips-and-tricks-you-should-learn-today-a05c23a39dc5)"
   ]
  },
  {
   "cell_type": "code",
   "execution_count": 1,
   "metadata": {},
   "outputs": [
    {
     "name": "stdout",
     "output_type": "stream",
     "text": [
      "learning\n"
     ]
    }
   ],
   "source": [
    "# 1.Concatenating Strings\n",
    "characters = ['l', 'e', 'a', 'r', 'n', 'i', 'n', 'g']\n",
    "word = \"\".join(characters)\n",
    "print(word)"
   ]
  },
  {
   "cell_type": "code",
   "execution_count": 2,
   "metadata": {},
   "outputs": [
    {
     "name": "stdout",
     "output_type": "stream",
     "text": [
      "[0, 1, 8, 27, 64]\n"
     ]
    }
   ],
   "source": [
    "# 2.Using List Comprehensions\n",
    "m = [x ** 3 for x in range(5)]\n",
    "print(m)"
   ]
  },
  {
   "cell_type": "code",
   "execution_count": 4,
   "metadata": {},
   "outputs": [
    {
     "name": "stdout",
     "output_type": "stream",
     "text": [
      "['l', 'e', 'e', 'a', 'a', 'r', 'n', 'n', 'n', 'i', 'i', 'n', 'n', 'n', 'g']\n"
     ]
    }
   ],
   "source": [
    "# 2.5.Find common numbers from two list using list comprehension\n",
    "list_a = ['l', 'e', 'a', 'r', 'n', 'i', 'n', 'g']\n",
    "list_b = ['m', 'a', 'c', 'h', 'i', 'n', 'e', \n",
    "          'l', 'e', 'a', 'r', 'n', 'i', 'n', 'g']\n",
    "common_num = [a for a in list_a for b in list_b if a ==b]\n",
    "print(common_num)"
   ]
  },
  {
   "cell_type": "code",
   "execution_count": 5,
   "metadata": {},
   "outputs": [
    {
     "name": "stdout",
     "output_type": "stream",
     "text": [
      "['fizzbuzz', 'fizz', 28, 'buzz', 'fizzbuzz']\n"
     ]
    }
   ],
   "source": [
    "# 3.Iterate With enumerate()\n",
    "numbers = [30, 42, 28, 50, 15]\n",
    "for i, num in enumerate(numbers):\n",
    "    if num % 3 == 0 and num % 5 == 0:\n",
    "        numbers[i]='fizzbuzz'\n",
    "    elif num % 3 == 0:\n",
    "        numbers[i]='fizz'\n",
    "    elif num % 5 == 0:\n",
    "        numbers[i]='buzz'\n",
    "print(numbers)"
   ]
  },
  {
   "cell_type": "code",
   "execution_count": 6,
   "metadata": {},
   "outputs": [
    {
     "name": "stdout",
     "output_type": "stream",
     "text": [
      "California San Jose\n",
      "Florida Miami\n",
      "Texas Dallas\n"
     ]
    }
   ],
   "source": [
    "# 4.Using ZIP When Working with Lists\n",
    "states = ['California', 'Florida', 'Texas']\n",
    "cities = ['San Jose', 'Miami', 'Dallas']\n",
    "for state, city in zip(states, cities):\n",
    "    print (state, city)"
   ]
  },
  {
   "cell_type": "code",
   "execution_count": 9,
   "metadata": {},
   "outputs": [
    {
     "name": "stdout",
     "output_type": "stream",
     "text": [
      "[('Math', 'Biology'), ('Math', 'Physics'), ('Math', 'Chemistry'), ('Math', 'Computer Science'), ('Biology', 'Physics'), ('Biology', 'Chemistry'), ('Biology', 'Computer Science'), ('Physics', 'Chemistry'), ('Physics', 'Computer Science'), ('Chemistry', 'Computer Science')]\n",
      "[('Math', 'Biology', 'Physics'), ('Math', 'Biology', 'Chemistry'), ('Math', 'Biology', 'Computer Science'), ('Math', 'Physics', 'Chemistry'), ('Math', 'Physics', 'Computer Science'), ('Math', 'Chemistry', 'Computer Science'), ('Biology', 'Physics', 'Chemistry'), ('Biology', 'Physics', 'Computer Science'), ('Biology', 'Chemistry', 'Computer Science'), ('Physics', 'Chemistry', 'Computer Science')]\n"
     ]
    }
   ],
   "source": [
    "# 5.Using itertools\n",
    "import itertools\n",
    "science = ['Math', 'Biology', 'Physics', 'Chemistry' , 'Computer Science']\n",
    "cross_science = list(itertools.combinations(science, r=2))\n",
    "cross_science_x3 = list(itertools.combinations(science, r=3))\n",
    "print(cross_science)\n",
    "print(cross_science_x3)"
   ]
  },
  {
   "cell_type": "code",
   "execution_count": 12,
   "metadata": {},
   "outputs": [
    {
     "name": "stdout",
     "output_type": "stream",
     "text": [
      "Counter({'n': 3, 'a': 2, 'i': 2, 'e': 2, 'm': 1, 'c': 1, 'h': 1, 'l': 1, 'r': 1, 'g': 1})\n"
     ]
    }
   ],
   "source": [
    "# 6.Using Python Collections\n",
    "from collections import Counter\n",
    "count = Counter( ['m', 'a', 'c', 'h', 'i', 'n', 'e', \n",
    "                 'l', 'e', 'a', 'r', 'n', 'i', 'n', 'g'])\n",
    "print(count)"
   ]
  },
  {
   "cell_type": "code",
   "execution_count": 14,
   "metadata": {},
   "outputs": [
    {
     "name": "stdout",
     "output_type": "stream",
     "text": [
      "{'LeBron': 'Lakers', 'Doncic': 'Mavericks', 'Harden': 'Rockets'}\n"
     ]
    }
   ],
   "source": [
    "# 7.Convert Two Lists Into a Dictonary\n",
    "players = ['LeBron', 'Doncic', 'Harden']\n",
    "teams = ['Lakers', 'Mavericks', 'Rockets']\n",
    "dictonary = dict(zip(players, teams))\n",
    "print(dictonary)"
   ]
  },
  {
   "cell_type": "code",
   "execution_count": 17,
   "metadata": {},
   "outputs": [
    {
     "name": "stdout",
     "output_type": "stream",
     "text": [
      "It took 15.453670583000076 seconds to execute\n"
     ]
    }
   ],
   "source": [
    "# 8.Usining Python Generators\n",
    "import warnings\n",
    "warnings.filterwarnings('ignore') #turn off warnings\n",
    "\n",
    "import time\n",
    "t1 = time.clock()\n",
    "sum([i * i for i in range(1,100000000)]) #example with a list\n",
    "t2 = time.clock()\n",
    "time_diff = t2 - t1\n",
    "print(f\"It took {time_diff} seconds to execute\")"
   ]
  },
  {
   "cell_type": "code",
   "execution_count": 18,
   "metadata": {},
   "outputs": [
    {
     "name": "stdout",
     "output_type": "stream",
     "text": [
      "It took 11.870751724999991 seconds to execute\n",
      "See the difference\n"
     ]
    }
   ],
   "source": [
    "# 8.5.Replacing the brackets with parentheses we change the list comprehension\n",
    "#     into a generator expression\n",
    "t1 = time.clock()\n",
    "sum((i * i for i in range(1,100000000))) #exmaple with a generator\n",
    "t2 = time.clock()\n",
    "time_diff = t2 - t1\n",
    "print(f\"It took {time_diff} seconds to execute\")\n",
    "print(\"See the difference\")"
   ]
  },
  {
   "cell_type": "code",
   "execution_count": 21,
   "metadata": {},
   "outputs": [
    {
     "name": "stdout",
     "output_type": "stream",
     "text": [
      "Multiplication of num1 and num2 = 50, division = 2.0\n"
     ]
    }
   ],
   "source": [
    "# 9.Return Multiple Values From a Function\n",
    "def multiplication_division(num1, num2):\n",
    "    return num1*num2, (num1/num2)\n",
    "\n",
    "multiplication, division = multiplication_division(10,5)\n",
    "print(\"Multiplication of num1 and num2 = {}, division = {}\".format(\n",
    "                                          multiplication,division))\n"
   ]
  },
  {
   "cell_type": "code",
   "execution_count": 25,
   "metadata": {},
   "outputs": [
    {
     "name": "stdout",
     "output_type": "stream",
     "text": [
      "[6, 7, 8, 9, 10]\n",
      "['san jose', 'san francisco', 'san diego', 'oakland', 'los angeles']\n"
     ]
    }
   ],
   "source": [
    "# 10.Using sorted() Function\n",
    "numbers = sorted([6,10,8,7,9])\n",
    "cities = sorted(['san jose', 'san francisco', 'los angeles', 'san diego',\n",
    "                                                              'oakland'],\n",
    "                                                            reverse=True)\n",
    "print(numbers)\n",
    "print(cities)"
   ]
  },
  {
   "cell_type": "code",
   "execution_count": null,
   "metadata": {},
   "outputs": [],
   "source": []
  }
 ],
 "metadata": {
  "kernelspec": {
   "display_name": "Python 3",
   "language": "python",
   "name": "python3"
  },
  "language_info": {
   "codemirror_mode": {
    "name": "ipython",
    "version": 3
   },
   "file_extension": ".py",
   "mimetype": "text/x-python",
   "name": "python",
   "nbconvert_exporter": "python",
   "pygments_lexer": "ipython3",
   "version": "3.7.6"
  }
 },
 "nbformat": 4,
 "nbformat_minor": 2
}
